{
 "cells": [
  {
   "cell_type": "code",
   "execution_count": 20,
   "metadata": {
    "execution": {
     "iopub.execute_input": "2024-11-03T17:09:19.488525Z",
     "iopub.status.busy": "2024-11-03T17:09:19.487725Z",
     "iopub.status.idle": "2024-11-03T17:09:19.495646Z",
     "shell.execute_reply": "2024-11-03T17:09:19.494808Z",
     "shell.execute_reply.started": "2024-11-03T17:09:19.488492Z"
    },
    "trusted": true
   },
   "outputs": [],
   "source": [
    "import numpy as np\n",
    "import tensorflow as tf\n",
    "from tensorflow.keras import backend as K\n",
    "from tensorflow.keras.layers import Dense, Activation, Conv2D, MaxPooling2D, Flatten\n",
    "from tensorflow.keras.optimizers import Adam\n",
    "from tensorflow.keras.metrics import categorical_crossentropy\n",
    "from tensorflow.keras.preprocessing.image import ImageDataGenerator\n",
    "from tensorflow.keras.preprocessing import image\n",
    "from tensorflow.keras.models import Model, Sequential\n",
    "import h5py\n",
    "from tensorflow.keras.callbacks import ModelCheckpoint, ReduceLROnPlateau\n",
    "from sklearn.metrics import confusion_matrix\n",
    "import itertools\n",
    "from PIL import Image, ImageFile\n",
    "ImageFile.LOAD_TRUNCATED_IMAGES = True\n",
    "import matplotlib.pyplot as plt\n",
    "import keras\n",
    "%matplotlib inline"
   ]
  },
  {
   "cell_type": "code",
   "execution_count": 21,
   "metadata": {
    "execution": {
     "iopub.execute_input": "2024-11-03T17:09:21.761580Z",
     "iopub.status.busy": "2024-11-03T17:09:21.760800Z",
     "iopub.status.idle": "2024-11-03T17:09:26.597353Z",
     "shell.execute_reply": "2024-11-03T17:09:26.596563Z",
     "shell.execute_reply.started": "2024-11-03T17:09:21.761546Z"
    },
    "trusted": true
   },
   "outputs": [
    {
     "name": "stdout",
     "output_type": "stream",
     "text": [
      "Running on TPU: \n",
      "INFO:tensorflow:Deallocate tpu buffers before initializing tpu system.\n",
      "WARNING:tensorflow:TPU system local has already been initialized. Reinitializing the TPU can cause previously created variables on TPU to be lost.\n",
      "INFO:tensorflow:Initializing the TPU system: local\n",
      "INFO:tensorflow:Finished initializing TPU system.\n",
      "INFO:tensorflow:Found TPU system:\n",
      "INFO:tensorflow:*** Num TPU Cores: 8\n",
      "INFO:tensorflow:*** Num TPU Workers: 1\n",
      "INFO:tensorflow:*** Num TPU Cores Per Worker: 8\n",
      "INFO:tensorflow:*** Available Device: _DeviceAttributes(/job:localhost/replica:0/task:0/device:CPU:0, CPU, 0, 0)\n",
      "INFO:tensorflow:*** Available Device: _DeviceAttributes(/job:localhost/replica:0/task:0/device:TPU:0, TPU, 0, 0)\n",
      "INFO:tensorflow:*** Available Device: _DeviceAttributes(/job:localhost/replica:0/task:0/device:TPU:1, TPU, 0, 0)\n",
      "INFO:tensorflow:*** Available Device: _DeviceAttributes(/job:localhost/replica:0/task:0/device:TPU:2, TPU, 0, 0)\n",
      "INFO:tensorflow:*** Available Device: _DeviceAttributes(/job:localhost/replica:0/task:0/device:TPU:3, TPU, 0, 0)\n",
      "INFO:tensorflow:*** Available Device: _DeviceAttributes(/job:localhost/replica:0/task:0/device:TPU:4, TPU, 0, 0)\n",
      "INFO:tensorflow:*** Available Device: _DeviceAttributes(/job:localhost/replica:0/task:0/device:TPU:5, TPU, 0, 0)\n",
      "INFO:tensorflow:*** Available Device: _DeviceAttributes(/job:localhost/replica:0/task:0/device:TPU:6, TPU, 0, 0)\n",
      "INFO:tensorflow:*** Available Device: _DeviceAttributes(/job:localhost/replica:0/task:0/device:TPU:7, TPU, 0, 0)\n",
      "INFO:tensorflow:*** Available Device: _DeviceAttributes(/job:localhost/replica:0/task:0/device:TPU_SYSTEM:0, TPU_SYSTEM, 0, 0)\n"
     ]
    }
   ],
   "source": [
    "try:\n",
    "    tpu = tf.distribute.cluster_resolver.TPUClusterResolver()\n",
    "    print(\"Running on TPU:\", tpu.master())\n",
    "except ValueError:\n",
    "    print(\"TPU non disponible\")\n",
    "    tpu = None\n",
    "\n",
    "if tpu:\n",
    "    tf.config.experimental_connect_to_cluster(tpu)\n",
    "    tf.tpu.experimental.initialize_tpu_system(tpu)\n",
    "    tpu_strategy = tf.distribute.TPUStrategy(tpu)\n",
    "else:\n",
    "    tpu_strategy = tf.distribute.get_strategy()\n"
   ]
  },
  {
   "cell_type": "code",
   "execution_count": 22,
   "metadata": {
    "execution": {
     "iopub.execute_input": "2024-11-03T17:09:38.138966Z",
     "iopub.status.busy": "2024-11-03T17:09:38.138400Z",
     "iopub.status.idle": "2024-11-03T17:09:38.142469Z",
     "shell.execute_reply": "2024-11-03T17:09:38.141598Z",
     "shell.execute_reply.started": "2024-11-03T17:09:38.138931Z"
    },
    "trusted": true
   },
   "outputs": [],
   "source": [
    "# Chemins\n",
    "train_path = r'/kaggle/input/fire-data/Data/train'\n",
    "valid_path = r'/kaggle/input/fire-data/Data/valid'\n",
    "test_path = r'/kaggle/input/fire-data/Data/test'"
   ]
  },
  {
   "cell_type": "code",
   "execution_count": 23,
   "metadata": {
    "execution": {
     "iopub.execute_input": "2024-11-03T17:09:42.017869Z",
     "iopub.status.busy": "2024-11-03T17:09:42.017084Z",
     "iopub.status.idle": "2024-11-03T17:09:42.026983Z",
     "shell.execute_reply": "2024-11-03T17:09:42.026011Z",
     "shell.execute_reply.started": "2024-11-03T17:09:42.017817Z"
    },
    "trusted": true
   },
   "outputs": [],
   "source": [
    "def cnn():\n",
    "    # 1 ere convolution\n",
    "    model = Sequential()\n",
    "    model.add(Conv2D(32, (3, 3), activation='relu', input_shape=(224, 224, 3)))\n",
    "    model.add(MaxPooling2D(pool_size=(2, 2)))\n",
    "    # 2 eme convolution\n",
    "    model.add(Conv2D(64, (3, 3), activation='relu'))\n",
    "    model.add(MaxPooling2D(pool_size=(2, 2)))\n",
    "    # 3 eme convolution\n",
    "    model.add(Conv2D(128, (3, 3), activation='relu'))\n",
    "    model.add(MaxPooling2D(pool_size=(2, 2)))\n",
    "    # Aplatissement des sorties des couches de convolution\n",
    "    model.add(Flatten())\n",
    "    model.add(Dense(256, activation='relu'))\n",
    "    # Ajouter une couche softmax avec 2 classes ( Fire et Non - fire )\n",
    "    model.add(Dense(2, activation='softmax'))\n",
    "    \n",
    "    return model"
   ]
  },
  {
   "cell_type": "code",
   "execution_count": 30,
   "metadata": {
    "execution": {
     "iopub.execute_input": "2024-11-03T17:23:11.374561Z",
     "iopub.status.busy": "2024-11-03T17:23:11.374026Z",
     "iopub.status.idle": "2024-11-03T17:35:21.615099Z",
     "shell.execute_reply": "2024-11-03T17:35:21.614060Z",
     "shell.execute_reply.started": "2024-11-03T17:23:11.374520Z"
    },
    "trusted": true
   },
   "outputs": [
    {
     "name": "stdout",
     "output_type": "stream",
     "text": [
      "Found 8000 images belonging to 2 classes.\n",
      "Found 4000 images belonging to 2 classes.\n",
      "Found 2000 images belonging to 2 classes.\n",
      "Epoch 1/10\n"
     ]
    },
    {
     "name": "stderr",
     "output_type": "stream",
     "text": [
      "2024-11-03 17:23:24.494232: E tensorflow/core/grappler/optimizers/meta_optimizer.cc:961] model_pruner failed: INVALID_ARGUMENT: Graph does not contain terminal node StatefulPartitionedCall.\n",
      "I0000 00:00:1730654604.745690    4882 tpu_compilation_cache_interface.cc:441] TPU host compilation cache miss: cache_key(1c7cd8e96673c531:0:0), session_name()\n"
     ]
    },
    {
     "name": "stdout",
     "output_type": "stream",
     "text": [
      "\u001b[1m 3/62\u001b[0m \u001b[37m━━━━━━━━━━━━━━━━━━━━\u001b[0m \u001b[1m2s\u001b[0m 47ms/step - accuracy: 0.4653 - loss: 3.5203"
     ]
    },
    {
     "name": "stderr",
     "output_type": "stream",
     "text": [
      "I0000 00:00:1730654610.301070    4882 tpu_compile_op_common.cc:245] Compilation of 1c7cd8e96673c531:0:0 with session name  took 5.555333341s and succeeded\n",
      "I0000 00:00:1730654610.304897    4882 tpu_compilation_cache_interface.cc:475] TPU host compilation cache: compilation complete for cache_key(1c7cd8e96673c531:0:0), session_name(), subgraph_key(std::string(property.function_name) = \"cluster_one_step_on_iterator_6804840540038960622\", property.function_library_fingerprint = 4212577781603579411, property.mlir_module_fingerprint = 0, property.num_replicas = 8, topology.chip_bounds().x = 2, topology.chip_bounds().y = 2, topology.chip_bounds().z = 1, topology.wrap().x = false, topology.wrap().y = false, topology.wrap().z = false, std::string(property.shapes_prefix) = \"16,224,224,3,;16,2,;\", property.guaranteed_constants_size = 0, embedding_partitions_fingerprint = \"1688352644216761960\")\n",
      "I0000 00:00:1730654610.304926    4882 tpu_compilation_cache_interface.cc:541] After adding entry for key 1c7cd8e96673c531:0:0 with session_name  cache is 17 entries (127687078 bytes),  marked for eviction 0 entries (0 bytes).\n"
     ]
    },
    {
     "name": "stdout",
     "output_type": "stream",
     "text": [
      "\u001b[1m43/62\u001b[0m \u001b[32m━━━━━━━━━━━━━\u001b[0m\u001b[37m━━━━━━━\u001b[0m \u001b[1m11s\u001b[0m 584ms/step - accuracy: 0.6933 - loss: 1.5025"
     ]
    },
    {
     "name": "stderr",
     "output_type": "stream",
     "text": [
      "I0000 00:00:1730654635.503000    4941 tpu_compilation_cache_interface.cc:441] TPU host compilation cache miss: cache_key(7134030e55484d19:0:0), session_name()\n"
     ]
    },
    {
     "name": "stdout",
     "output_type": "stream",
     "text": [
      "\u001b[1m47/62\u001b[0m \u001b[32m━━━━━━━━━━━━━━━\u001b[0m\u001b[37m━━━━━\u001b[0m \u001b[1m9s\u001b[0m 622ms/step - accuracy: 0.7052 - loss: 1.4284 "
     ]
    },
    {
     "name": "stderr",
     "output_type": "stream",
     "text": [
      "I0000 00:00:1730654638.801780    4941 tpu_compile_op_common.cc:245] Compilation of 7134030e55484d19:0:0 with session name  took 3.298725949s and succeeded\n",
      "I0000 00:00:1730654638.806584    4941 tpu_compilation_cache_interface.cc:475] TPU host compilation cache: compilation complete for cache_key(7134030e55484d19:0:0), session_name(), subgraph_key(std::string(property.function_name) = \"cluster_one_step_on_iterator_6804840540038960622\", property.function_library_fingerprint = 4212577781603579411, property.mlir_module_fingerprint = 0, property.num_replicas = 8, topology.chip_bounds().x = 2, topology.chip_bounds().y = 2, topology.chip_bounds().z = 1, topology.wrap().x = false, topology.wrap().y = false, topology.wrap().z = false, std::string(property.shapes_prefix) = \"8,224,224,3,;8,2,;\", property.guaranteed_constants_size = 0, embedding_partitions_fingerprint = \"1688352644216761960\")\n",
      "I0000 00:00:1730654638.806624    4941 tpu_compilation_cache_interface.cc:541] After adding entry for key 7134030e55484d19:0:0 with session_name  cache is 18 entries (137761929 bytes),  marked for eviction 0 entries (0 bytes).\n"
     ]
    },
    {
     "name": "stdout",
     "output_type": "stream",
     "text": [
      "\u001b[1m61/62\u001b[0m \u001b[32m━━━━━━━━━━━━━━━━━━━\u001b[0m\u001b[37m━\u001b[0m \u001b[1m0s\u001b[0m 544ms/step - accuracy: 0.7398 - loss: 1.2254"
     ]
    },
    {
     "name": "stderr",
     "output_type": "stream",
     "text": [
      "I0000 00:00:1730654648.484842    4908 tpu_compilation_cache_interface.cc:441] TPU host compilation cache miss: cache_key(da9652a0012614ad:0:0), session_name()\n",
      "I0000 00:00:1730654653.159082    4908 tpu_compile_op_common.cc:245] Compilation of da9652a0012614ad:0:0 with session name  took 4.674198112s and succeeded\n",
      "I0000 00:00:1730654653.160920    4908 tpu_compilation_cache_interface.cc:475] TPU host compilation cache: compilation complete for cache_key(da9652a0012614ad:0:0), session_name(), subgraph_key(std::string(property.function_name) = \"cluster_one_step_on_iterator_2727500898359210354\", property.function_library_fingerprint = 5569474029868667540, property.mlir_module_fingerprint = 0, property.num_replicas = 8, topology.chip_bounds().x = 2, topology.chip_bounds().y = 2, topology.chip_bounds().z = 1, topology.wrap().x = false, topology.wrap().y = false, topology.wrap().z = false, std::string(property.shapes_prefix) = \"16,224,224,3,;16,2,;\", property.guaranteed_constants_size = 0, embedding_partitions_fingerprint = \"1688352644216761960\")\n",
      "I0000 00:00:1730654653.160950    4908 tpu_compilation_cache_interface.cc:541] After adding entry for key da9652a0012614ad:0:0 with session_name  cache is 19 entries (141661293 bytes),  marked for eviction 0 entries (0 bytes).\n",
      "I0000 00:00:1730654671.563668    4889 tpu_compilation_cache_interface.cc:441] TPU host compilation cache miss: cache_key(24831b3ecbb0a456:0:0), session_name()\n"
     ]
    },
    {
     "name": "stdout",
     "output_type": "stream",
     "text": [
      "\n",
      "Epoch 1: val_loss improved from inf to 0.15851, saving model to /kaggle/working/CNN.keras\n"
     ]
    },
    {
     "name": "stderr",
     "output_type": "stream",
     "text": [
      "I0000 00:00:1730654675.183038    4889 tpu_compile_op_common.cc:245] Compilation of 24831b3ecbb0a456:0:0 with session name  took 3.619325014s and succeeded\n",
      "I0000 00:00:1730654675.184862    4889 tpu_compilation_cache_interface.cc:475] TPU host compilation cache: compilation complete for cache_key(24831b3ecbb0a456:0:0), session_name(), subgraph_key(std::string(property.function_name) = \"cluster_one_step_on_iterator_2727500898359210354\", property.function_library_fingerprint = 5569474029868667540, property.mlir_module_fingerprint = 0, property.num_replicas = 8, topology.chip_bounds().x = 2, topology.chip_bounds().y = 2, topology.chip_bounds().z = 1, topology.wrap().x = false, topology.wrap().y = false, topology.wrap().z = false, std::string(property.shapes_prefix) = \"4,224,224,3,;4,2,;\", property.guaranteed_constants_size = 0, embedding_partitions_fingerprint = \"1688352644216761960\")\n",
      "I0000 00:00:1730654675.184900    4889 tpu_compilation_cache_interface.cc:541] After adding entry for key 24831b3ecbb0a456:0:0 with session_name  cache is 20 entries (145253542 bytes),  marked for eviction 0 entries (0 bytes).\n"
     ]
    },
    {
     "name": "stdout",
     "output_type": "stream",
     "text": [
      "\u001b[1m62/62\u001b[0m \u001b[32m━━━━━━━━━━━━━━━━━━━━\u001b[0m\u001b[37m\u001b[0m \u001b[1m73s\u001b[0m 1s/step - accuracy: 0.7439 - loss: 1.2020 - val_accuracy: 0.9421 - val_loss: 0.1585 - learning_rate: 0.0010\n",
      "Epoch 2/10\n",
      "\u001b[1m61/62\u001b[0m \u001b[32m━━━━━━━━━━━━━━━━━━━\u001b[0m\u001b[37m━\u001b[0m \u001b[1m0s\u001b[0m 638ms/step - accuracy: 0.9805 - loss: 0.0824\n",
      "Epoch 1: val_loss did not improve from 0.15851\n",
      "\u001b[1m62/62\u001b[0m \u001b[32m━━━━━━━━━━━━━━━━━━━━\u001b[0m\u001b[37m\u001b[0m \u001b[1m66s\u001b[0m 1s/step - accuracy: 0.9804 - loss: 0.0822 - val_accuracy: 0.9277 - val_loss: 0.1833 - learning_rate: 0.0010\n",
      "Epoch 3/10\n",
      "\u001b[1m61/62\u001b[0m \u001b[32m━━━━━━━━━━━━━━━━━━━\u001b[0m\u001b[37m━\u001b[0m \u001b[1m0s\u001b[0m 639ms/step - accuracy: 0.9815 - loss: 0.0460\n",
      "Epoch 1: val_loss did not improve from 0.15851\n",
      "\u001b[1m62/62\u001b[0m \u001b[32m━━━━━━━━━━━━━━━━━━━━\u001b[0m\u001b[37m\u001b[0m \u001b[1m68s\u001b[0m 1s/step - accuracy: 0.9816 - loss: 0.0461 - val_accuracy: 0.9029 - val_loss: 0.3229 - learning_rate: 0.0010\n",
      "Epoch 4/10\n",
      "\u001b[1m62/62\u001b[0m \u001b[32m━━━━━━━━━━━━━━━━━━━━\u001b[0m\u001b[37m\u001b[0m \u001b[1m0s\u001b[0m 605ms/step - accuracy: 0.9974 - loss: 0.0195\n",
      "Epoch 1: val_loss did not improve from 0.15851\n",
      "\u001b[1m62/62\u001b[0m \u001b[32m━━━━━━━━━━━━━━━━━━━━\u001b[0m\u001b[37m\u001b[0m \u001b[1m65s\u001b[0m 1s/step - accuracy: 0.9973 - loss: 0.0197 - val_accuracy: 0.9194 - val_loss: 0.2405 - learning_rate: 0.0010\n",
      "Epoch 5/10\n",
      "\u001b[1m61/62\u001b[0m \u001b[32m━━━━━━━━━━━━━━━━━━━\u001b[0m\u001b[37m━\u001b[0m \u001b[1m0s\u001b[0m 616ms/step - accuracy: 0.9763 - loss: 0.0643\n",
      "Epoch 1: val_loss did not improve from 0.15851\n",
      "\u001b[1m62/62\u001b[0m \u001b[32m━━━━━━━━━━━━━━━━━━━━\u001b[0m\u001b[37m\u001b[0m \u001b[1m65s\u001b[0m 1s/step - accuracy: 0.9766 - loss: 0.0636 - val_accuracy: 0.9401 - val_loss: 0.1649 - learning_rate: 0.0010\n",
      "Epoch 6/10\n",
      "\u001b[1m61/62\u001b[0m \u001b[32m━━━━━━━━━━━━━━━━━━━\u001b[0m\u001b[37m━\u001b[0m \u001b[1m0s\u001b[0m 605ms/step - accuracy: 0.9991 - loss: 0.0059\n",
      "Epoch 1: val_loss did not improve from 0.15851\n",
      "\u001b[1m62/62\u001b[0m \u001b[32m━━━━━━━━━━━━━━━━━━━━\u001b[0m\u001b[37m\u001b[0m \u001b[1m63s\u001b[0m 1s/step - accuracy: 0.9991 - loss: 0.0060 - val_accuracy: 0.9277 - val_loss: 0.2547 - learning_rate: 0.0010\n",
      "Epoch 7/10\n",
      "\u001b[1m62/62\u001b[0m \u001b[32m━━━━━━━━━━━━━━━━━━━━\u001b[0m\u001b[37m\u001b[0m \u001b[1m0s\u001b[0m 604ms/step - accuracy: 0.9996 - loss: 0.0051\n",
      "Epoch 1: val_loss did not improve from 0.15851\n",
      "\u001b[1m62/62\u001b[0m \u001b[32m━━━━━━━━━━━━━━━━━━━━\u001b[0m\u001b[37m\u001b[0m \u001b[1m63s\u001b[0m 1s/step - accuracy: 0.9995 - loss: 0.0051 - val_accuracy: 0.9504 - val_loss: 0.2313 - learning_rate: 0.0010\n",
      "Epoch 8/10\n",
      "\u001b[1m62/62\u001b[0m \u001b[32m━━━━━━━━━━━━━━━━━━━━\u001b[0m\u001b[37m\u001b[0m \u001b[1m0s\u001b[0m 608ms/step - accuracy: 0.9925 - loss: 0.0121\n",
      "Epoch 1: val_loss did not improve from 0.15851\n",
      "\u001b[1m62/62\u001b[0m \u001b[32m━━━━━━━━━━━━━━━━━━━━\u001b[0m\u001b[37m\u001b[0m \u001b[1m65s\u001b[0m 1s/step - accuracy: 0.9925 - loss: 0.0121 - val_accuracy: 0.9256 - val_loss: 0.2817 - learning_rate: 0.0010\n",
      "Epoch 9/10\n",
      "\u001b[1m62/62\u001b[0m \u001b[32m━━━━━━━━━━━━━━━━━━━━\u001b[0m\u001b[37m\u001b[0m \u001b[1m0s\u001b[0m 606ms/step - accuracy: 1.0000 - loss: 0.0036\n",
      "Epoch 1: val_loss did not improve from 0.15851\n",
      "\u001b[1m62/62\u001b[0m \u001b[32m━━━━━━━━━━━━━━━━━━━━\u001b[0m\u001b[37m\u001b[0m \u001b[1m64s\u001b[0m 1s/step - accuracy: 1.0000 - loss: 0.0036 - val_accuracy: 0.9339 - val_loss: 0.4321 - learning_rate: 0.0010\n",
      "Epoch 10/10\n",
      "\u001b[1m62/62\u001b[0m \u001b[32m━━━━━━━━━━━━━━━━━━━━\u001b[0m\u001b[37m\u001b[0m \u001b[1m0s\u001b[0m 590ms/step - accuracy: 0.9966 - loss: 0.0082\n",
      "Epoch 1: val_loss did not improve from 0.15851\n",
      "\u001b[1m62/62\u001b[0m \u001b[32m━━━━━━━━━━━━━━━━━━━━\u001b[0m\u001b[37m\u001b[0m \u001b[1m63s\u001b[0m 1s/step - accuracy: 0.9966 - loss: 0.0082 - val_accuracy: 0.9298 - val_loss: 0.3457 - learning_rate: 0.0010\n"
     ]
    }
   ],
   "source": [
    "with tpu_strategy.scope():\n",
    "\n",
    "    model = build_cnn()\n",
    "    model.compile(Adam(learning_rate=0.001), loss='categorical_crossentropy', metrics=['accuracy'])\n",
    "    \n",
    "    train_batches = ImageDataGenerator(rescale=1./255).flow_from_directory(\n",
    "        train_path, target_size=(224, 224), batch_size=128)\n",
    "    valid_batches = ImageDataGenerator(rescale=1./255).flow_from_directory(\n",
    "        valid_path, target_size=(224, 224), batch_size=128)\n",
    "    test_batches = ImageDataGenerator(rescale=1./255).flow_from_directory(\n",
    "        test_path, target_size=(224, 224), batch_size=128, shuffle=False)\n",
    "\n",
    "    checkpointer = ModelCheckpoint(\n",
    "        filepath='/kaggle/working/CNN.keras',\n",
    "        monitor='val_loss', \n",
    "        verbose=1, \n",
    "        save_best_only=True, \n",
    "        save_weights_only=False, \n",
    "        mode='auto',\n",
    "        save_freq='epoch'\n",
    "    )\n",
    "    \n",
    "    reduce_lr = ReduceLROnPlateau(monitor='val_loss', factor=0.1, patience=1, min_lr=0.000001)\n",
    "    \n",
    "    steps_per_epoch = max(1, train_batches.samples // train_batches.batch_size)\n",
    "    validation_steps = max(1, valid_batches.samples // valid_batches.batch_size)\n",
    "    \n",
    "    for epoch in range(1, 11):\n",
    "        try:\n",
    "            print(f\"Epoch {epoch}/10\")\n",
    "            model.fit(\n",
    "                train_batches,\n",
    "                steps_per_epoch=steps_per_epoch,\n",
    "                validation_data=valid_batches,\n",
    "                validation_steps=validation_steps,\n",
    "                epochs=1,  # Train for one epoch at a time\n",
    "                verbose=1,\n",
    "                callbacks=[checkpointer, reduce_lr]\n",
    "            )\n",
    "        except StopIteration:\n",
    "            print(\"Data generator exhausted. Moving to the next epoch.\")\n",
    "            continue"
   ]
  },
  {
   "cell_type": "code",
   "execution_count": 31,
   "metadata": {
    "execution": {
     "iopub.execute_input": "2024-11-03T17:36:03.828075Z",
     "iopub.status.busy": "2024-11-03T17:36:03.827735Z",
     "iopub.status.idle": "2024-11-03T17:36:03.834492Z",
     "shell.execute_reply": "2024-11-03T17:36:03.833639Z",
     "shell.execute_reply.started": "2024-11-03T17:36:03.828044Z"
    },
    "trusted": true
   },
   "outputs": [
    {
     "data": {
      "text/plain": [
       "array([0, 0, 0, ..., 1, 1, 1], dtype=int32)"
      ]
     },
     "execution_count": 31,
     "metadata": {},
     "output_type": "execute_result"
    }
   ],
   "source": [
    "test_labels = test_batches.classes\n",
    "test_labels"
   ]
  },
  {
   "cell_type": "code",
   "execution_count": 32,
   "metadata": {
    "execution": {
     "iopub.execute_input": "2024-11-03T17:36:24.595285Z",
     "iopub.status.busy": "2024-11-03T17:36:24.594417Z",
     "iopub.status.idle": "2024-11-03T17:36:24.600485Z",
     "shell.execute_reply": "2024-11-03T17:36:24.599507Z",
     "shell.execute_reply.started": "2024-11-03T17:36:24.595248Z"
    },
    "trusted": true
   },
   "outputs": [
    {
     "data": {
      "text/plain": [
       "{'Fire': 0, 'NonFire': 1}"
      ]
     },
     "execution_count": 32,
     "metadata": {},
     "output_type": "execute_result"
    }
   ],
   "source": [
    "test_batches.class_indices"
   ]
  },
  {
   "cell_type": "code",
   "execution_count": 33,
   "metadata": {
    "execution": {
     "iopub.execute_input": "2024-11-03T17:36:35.640154Z",
     "iopub.status.busy": "2024-11-03T17:36:35.639819Z",
     "iopub.status.idle": "2024-11-03T17:37:05.565879Z",
     "shell.execute_reply": "2024-11-03T17:37:05.564831Z",
     "shell.execute_reply.started": "2024-11-03T17:36:35.640124Z"
    },
    "trusted": true
   },
   "outputs": [
    {
     "name": "stderr",
     "output_type": "stream",
     "text": [
      "2024-11-03 17:36:41.621200: E tensorflow/core/grappler/optimizers/meta_optimizer.cc:961] model_pruner failed: INVALID_ARGUMENT: Graph does not contain terminal node sequential_6_1/conv2d_18_1/Reshape/ReadVariableOp.\n",
      "I0000 00:00:1730655401.652204    4879 tpu_compilation_cache_interface.cc:441] TPU host compilation cache miss: cache_key(eb59be357563b445:0:0), session_name()\n"
     ]
    },
    {
     "name": "stdout",
     "output_type": "stream",
     "text": [
      "\u001b[1m 2/16\u001b[0m \u001b[32m━━\u001b[0m\u001b[37m━━━━━━━━━━━━━━━━━━\u001b[0m \u001b[1m2s\u001b[0m 148ms/step"
     ]
    },
    {
     "name": "stderr",
     "output_type": "stream",
     "text": [
      "I0000 00:00:1730655406.524500    4879 tpu_compile_op_common.cc:245] Compilation of eb59be357563b445:0:0 with session name  took 4.872237383s and succeeded\n",
      "I0000 00:00:1730655406.525781    4879 tpu_compilation_cache_interface.cc:475] TPU host compilation cache: compilation complete for cache_key(eb59be357563b445:0:0), session_name(), subgraph_key(std::string(property.function_name) = \"cluster_one_step_on_data_distributed_7713620612718902167\", property.function_library_fingerprint = 6309059248911761041, property.mlir_module_fingerprint = 0, property.num_replicas = 8, topology.chip_bounds().x = 2, topology.chip_bounds().y = 2, topology.chip_bounds().z = 1, topology.wrap().x = false, topology.wrap().y = false, topology.wrap().z = false, std::string(property.shapes_prefix) = \"\", property.guaranteed_constants_size = 0, embedding_partitions_fingerprint = \"1688352644216761960\")\n",
      "I0000 00:00:1730655406.525807    4879 tpu_compilation_cache_interface.cc:541] After adding entry for key eb59be357563b445:0:0 with session_name  cache is 21 entries (148496972 bytes),  marked for eviction 0 entries (0 bytes).\n"
     ]
    },
    {
     "name": "stdout",
     "output_type": "stream",
     "text": [
      "\u001b[1m15/16\u001b[0m \u001b[32m━━━━━━━━━━━━━━━━━━\u001b[0m\u001b[37m━━\u001b[0m \u001b[1m0s\u001b[0m 944ms/step"
     ]
    },
    {
     "name": "stderr",
     "output_type": "stream",
     "text": [
      "I0000 00:00:1730655420.729830    4916 tpu_compilation_cache_interface.cc:441] TPU host compilation cache miss: cache_key(8e6e78bf4e07f43a:0:0), session_name()\n"
     ]
    },
    {
     "name": "stdout",
     "output_type": "stream",
     "text": [
      "\u001b[1m16/16\u001b[0m \u001b[32m━━━━━━━━━━━━━━━━━━━━\u001b[0m\u001b[37m\u001b[0m \u001b[1m25s\u001b[0m 1s/step \n"
     ]
    },
    {
     "name": "stderr",
     "output_type": "stream",
     "text": [
      "I0000 00:00:1730655425.510326    4916 tpu_compile_op_common.cc:245] Compilation of 8e6e78bf4e07f43a:0:0 with session name  took 4.780451967s and succeeded\n",
      "I0000 00:00:1730655425.511322    4916 tpu_compilation_cache_interface.cc:475] TPU host compilation cache: compilation complete for cache_key(8e6e78bf4e07f43a:0:0), session_name(), subgraph_key(std::string(property.function_name) = \"cluster_one_step_on_data_distributed_13619037508697582743\", property.function_library_fingerprint = 7290269339837116096, property.mlir_module_fingerprint = 0, property.num_replicas = 8, topology.chip_bounds().x = 2, topology.chip_bounds().y = 2, topology.chip_bounds().z = 1, topology.wrap().x = false, topology.wrap().y = false, topology.wrap().z = false, std::string(property.shapes_prefix) = \"10,224,224,3,;10,2,;\", property.guaranteed_constants_size = 0, embedding_partitions_fingerprint = \"1688352644216761960\")\n",
      "I0000 00:00:1730655425.511350    4916 tpu_compilation_cache_interface.cc:541] After adding entry for key 8e6e78bf4e07f43a:0:0 with session_name  cache is 22 entries (151852100 bytes),  marked for eviction 0 entries (0 bytes).\n"
     ]
    },
    {
     "data": {
      "text/plain": [
       "array([[9.9953568e-01, 4.6438814e-04],\n",
       "       [9.3938118e-01, 6.0618829e-02],\n",
       "       [3.7086192e-01, 6.2913799e-01],\n",
       "       ...,\n",
       "       [8.6134020e-03, 9.9138659e-01],\n",
       "       [4.6301540e-03, 9.9536985e-01],\n",
       "       [1.8366165e-03, 9.9816340e-01]], dtype=float32)"
      ]
     },
     "execution_count": 33,
     "metadata": {},
     "output_type": "execute_result"
    }
   ],
   "source": [
    "predictions = model.predict(test_batches, steps=len(test_batches), verbose=1)\n",
    "predictions"
   ]
  },
  {
   "cell_type": "code",
   "execution_count": 34,
   "metadata": {
    "execution": {
     "iopub.execute_input": "2024-11-03T17:37:21.254541Z",
     "iopub.status.busy": "2024-11-03T17:37:21.253994Z",
     "iopub.status.idle": "2024-11-03T17:37:21.259791Z",
     "shell.execute_reply": "2024-11-03T17:37:21.258951Z",
     "shell.execute_reply.started": "2024-11-03T17:37:21.254506Z"
    },
    "trusted": true
   },
   "outputs": [
    {
     "data": {
      "text/plain": [
       "array([0, 0, 1, 0, 0, 0, 0, 0, 0, 0])"
      ]
     },
     "execution_count": 34,
     "metadata": {},
     "output_type": "execute_result"
    }
   ],
   "source": [
    "predictions_class = np.argmax(predictions, axis=1)\n",
    "predictions_class[:10]"
   ]
  },
  {
   "cell_type": "code",
   "execution_count": 35,
   "metadata": {
    "execution": {
     "iopub.execute_input": "2024-11-03T17:37:34.707821Z",
     "iopub.status.busy": "2024-11-03T17:37:34.707043Z",
     "iopub.status.idle": "2024-11-03T17:37:34.712453Z",
     "shell.execute_reply": "2024-11-03T17:37:34.711546Z",
     "shell.execute_reply.started": "2024-11-03T17:37:34.707787Z"
    },
    "trusted": true
   },
   "outputs": [
    {
     "name": "stdout",
     "output_type": "stream",
     "text": [
      "Nombre de prédictions correctes : 1835\n",
      "Nombre total d'exemples : 2000\n"
     ]
    }
   ],
   "source": [
    "correct_predictions = np.sum(predictions_class == test_labels)\n",
    "total_examples = len(test_labels)\n",
    "print(f\"Nombre de prédictions correctes : {correct_predictions}\")\n",
    "print(f\"Nombre total d'exemples : {total_examples}\")"
   ]
  },
  {
   "cell_type": "code",
   "execution_count": 36,
   "metadata": {
    "execution": {
     "iopub.execute_input": "2024-11-03T17:38:12.627377Z",
     "iopub.status.busy": "2024-11-03T17:38:12.627006Z",
     "iopub.status.idle": "2024-11-03T17:38:30.469434Z",
     "shell.execute_reply": "2024-11-03T17:38:30.468306Z",
     "shell.execute_reply.started": "2024-11-03T17:38:12.627343Z"
    },
    "trusted": true
   },
   "outputs": [
    {
     "name": "stdout",
     "output_type": "stream",
     "text": [
      "\u001b[1m16/16\u001b[0m \u001b[32m━━━━━━━━━━━━━━━━━━━━\u001b[0m\u001b[37m\u001b[0m \u001b[1m14s\u001b[0m 863ms/step\n",
      "Confusion matrix, without normalization\n",
      "[[891 109]\n",
      " [ 56 944]]\n"
     ]
    },
    {
     "data": {
      "image/png": "[encoded data removed]",
      "text/plain": [
       "<Figure size 800x600 with 2 Axes>"
      ]
     },
     "metadata": {},
     "output_type": "display_data"
    }
   ],
   "source": [
    "def plot_confusion_matrix(cm, classes, normalize=False, title='Confusion matrix', cmap=plt.cm.Blues):\n",
    "  \n",
    "    plt.imshow(cm, interpolation='nearest', cmap=cmap)\n",
    "    plt.title(title)\n",
    "    plt.colorbar()\n",
    "    tick_marks = np.arange(len(classes))\n",
    "    plt.xticks(tick_marks, classes, rotation=45)\n",
    "    plt.yticks(tick_marks, classes)\n",
    "\n",
    "    if normalize:\n",
    "        cm = cm.astype('float') / cm.sum(axis=1)[:, np.newaxis]\n",
    "        print(\"Normalized confusion matrix\")\n",
    "    else:\n",
    "        print('Confusion matrix, without normalization')\n",
    "\n",
    "    print(cm)\n",
    "\n",
    "    thresh = cm.max() / 2.\n",
    "    for i, j in itertools.product(range(cm.shape[0]), range(cm.shape[1])):\n",
    "        plt.text(j, i, format(cm[i, j], '.2f'),\n",
    "                 horizontalalignment=\"center\",\n",
    "                 color=\"white\" if cm[i, j] > thresh else \"black\")\n",
    "\n",
    "    plt.tight_layout()\n",
    "    plt.ylabel('True label')\n",
    "    plt.xlabel('Predicted label')\n",
    "\n",
    "predictions = model.predict(test_batches, steps=len(test_batches), verbose=1)\n",
    "predicted_classes = np.argmax(predictions, axis=1)\n",
    "\n",
    "true_classes = test_batches.classes\n",
    "class_labels = list(test_batches.class_indices.keys())\n",
    "\n",
    "cm = confusion_matrix(true_classes, predicted_classes)\n",
    "\n",
    "plt.figure(figsize=(8, 6))\n",
    "plot_confusion_matrix(cm, classes=class_labels, title='Confusion Matrix')\n",
    "plt.show()"
   ]
  },
  {
   "cell_type": "code",
   "execution_count": 40,
   "metadata": {
    "execution": {
     "iopub.execute_input": "2024-11-03T17:43:54.160432Z",
     "iopub.status.busy": "2024-11-03T17:43:54.160042Z",
     "iopub.status.idle": "2024-11-03T17:43:55.270689Z",
     "shell.execute_reply": "2024-11-03T17:43:55.269360Z",
     "shell.execute_reply.started": "2024-11-03T17:43:54.160400Z"
    },
    "trusted": true
   },
   "outputs": [],
   "source": [
    "\n",
    "cnn_model = keras.models.load_model('/kaggle/working/CNN.keras')"
   ]
  }
 ],
 "metadata": {
  "kaggle": {
   "accelerator": "tpu1vmV38",
   "dataSources": [
    {
     "datasetId": 6003470,
     "sourceId": 9796266,
     "sourceType": "datasetVersion"
    },
    {
     "datasetId": 6003893,
     "sourceId": 9796817,
     "sourceType": "datasetVersion"
    },
    {
     "datasetId": 6003922,
     "sourceId": 9796858,
     "sourceType": "datasetVersion"
    },
    {
     "datasetId": 6003927,
     "sourceId": 9796865,
     "sourceType": "datasetVersion"
    }
   ],
   "dockerImageVersionId": 30788,
   "isGpuEnabled": false,
   "isInternetEnabled": true,
   "language": "python",
   "sourceType": "notebook"
  },
  "kernelspec": {
   "display_name": "Python 3",
   "language": "python",
   "name": "python3"
  },
  "language_info": {
   "codemirror_mode": {
    "name": "ipython",
    "version": 3
   },
   "file_extension": ".py",
   "mimetype": "text/x-python",
   "name": "python",
   "nbconvert_exporter": "python",
   "pygments_lexer": "ipython3",
   "version": "3.10.15"
  }
 },
 "nbformat": 4,
 "nbformat_minor": 4
}
